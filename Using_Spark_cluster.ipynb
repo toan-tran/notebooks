{
 "cells": [
  {
   "cell_type": "markdown",
   "metadata": {
    "slideshow": {
     "slide_type": "-"
    }
   },
   "source": [
    "# Using Spark\n",
    "\n",
    "## Introduction\n",
    "\n",
    "In this demo we will show how to work with Spark from a Jupyter node like this machine. On this Jupyter node, a Spark client is already installed and configured to work with a Spark cluster, so all you need to do is to call the right packages and call the right commands.\n",
    "\n",
    "\n",
    "## Apache Spark\n",
    "\n",
    "Apache Spark (or Spark for short) is an computing cluster framework, introduced by UC Berkeley, later becomes an Apache programme. It provides large scale distributed data processing. It is mostly compared with Apache Hadoop, since it is developed to with the MapReduce principal, but adds interactive data query and get in-memory processing and is able to get near real-time analytics. Spark can also use HDFS as storage backend for its Resilient Distributed Dataset (RDD).\n",
    "\n",
    "## Spark and Python\n",
    "\n",
    "Spark exposes its functions in a variety of languages: Java, Scala, Python and R. In this notebook we uses Python on Spark (pySpark).\n",
    "\n",
    "There are two way to use pySpark: call directly the pySpark programme, which is a Python with pre-embedded library, or call pySpark libraries from a normal Python code, which we are doing in this notebook. \n",
    "\n",
    "In the remaining parts of this notebook, I will show how to create a spark context that connects to the Spark cluster from the pyspark library, pass a job to it and execute the job."
   ]
  },
  {
   "cell_type": "markdown",
   "metadata": {},
   "source": [
    "## Calling Spark from Python script\n",
    "\n",
    "### 1. Set up the Spark Home\n",
    "\n",
    "First we have to specify *SPARK_HOME* to the folder that installs spark, if it is not already in environment (like this notebook).\n",
    "\n",
    "In the current node Spark is installed at /opt/spark\n"
   ]
  },
  {
   "cell_type": "code",
   "execution_count": 1,
   "metadata": {},
   "outputs": [
    {
     "name": "stdout",
     "output_type": "stream",
     "text": [
      "['', '/opt/spark/python', '/usr/lib/python2.7', '/usr/lib/python2.7/plat-x86_64-linux-gnu', '/usr/lib/python2.7/lib-tk', '/usr/lib/python2.7/lib-old', '/usr/lib/python2.7/lib-dynload', '/usr/local/lib/python2.7/dist-packages', '/usr/lib/python2.7/dist-packages', '/usr/local/lib/python2.7/dist-packages/IPython/extensions', '/home/demo/.ipython']\n"
     ]
    }
   ],
   "source": [
    "import sys\n",
    "print sys.path"
   ]
  },
  {
   "cell_type": "markdown",
   "metadata": {},
   "source": [
    "### 2. Add pyspark library folder in to sys.path\n",
    "\n",
    "The Next part of the python script is to set up the environment for calling Spark context. Contrarily to the scripts provided with the installation of Spark which automatically generate all the environment, configuration and create a Spark context, this notebook starts from a blank python installation. Thus, it does not contain the necessary path or environment necessary for creating a Spark Context.\n",
    "\n",
    "Two folders need to be added: $SPARK_HOME/python/lib/py4j-0.9-src.zip and $SPARK_HOME/python\n",
    "This node has spark installed on /opt/spark, thus we have to add /opt/spark/python/lib/py4j-0.9-src.zip, /opt/spark/python to sys.path"
   ]
  },
  {
   "cell_type": "code",
   "execution_count": 2,
   "metadata": {},
   "outputs": [],
   "source": [
    "import sys\n",
    "\n",
    "# Popup the current folder in sys.path\n",
    "if (len(sys.path) >  0):\n",
    "    sys.path.pop(0)\n",
    "pythonpath = ['', '/opt/spark/python/lib/py4j-0.9-src.zip', '/opt/spark/python']\n",
    "pythonpath.extend(sys.path)\n",
    "sys.path = pythonpath"
   ]
  },
  {
   "cell_type": "markdown",
   "metadata": {},
   "source": [
    "### 3. Create Spark Context object\n",
    "\n",
    "Now that the environment is set up, we can create a Spark Context. The most important parameter is *master* which tells which Spark cluster to connect your Spark Context object to.\n",
    "\n",
    "- *master* = *local* by default, which does not connect your Spark Context object to any Spark cluster, but use localhost for all Spark jobs.\n",
    "- *master* = *spark://host:port* tells Spark Context object to connect to a Spark Master in a Spark cluster using its IP and port\n",
    "- *master* = *yarn-client* will tell Spark Context object to connect to a Yarn Resource Manager. Spark will search for Yarn configuration in the Hadoop client configuration of the current node. It is the set up of our current node. There is a Cloudera cluster which exposes Spark API via SPARK_ON_YARN service. All necessary Hadoop configuration is already done on this node to connect to the Cloudera cluster."
   ]
  },
  {
   "cell_type": "code",
   "execution_count": 3,
   "metadata": {},
   "outputs": [],
   "source": [
    "from pyspark.context import SparkContext\n",
    "sc = SparkContext(master='yarn-client', appName='test_python')"
   ]
  },
  {
   "cell_type": "markdown",
   "metadata": {},
   "source": [
    "### 4. Play with Spark\n",
    "\n",
    "Let's do a simple job - Wordcount - that will count the number of a word appearing in a file. We will start by testing if our Spark context can read/write on the cluster's HDFS."
   ]
  },
  {
   "cell_type": "code",
   "execution_count": 4,
   "metadata": {},
   "outputs": [],
   "source": [
    "f = sc.textFile('big.txt')\n",
    "wcount = f.flatMap(lambda line: line.split(' ')).map(lambda x: (x,1)).reduceByKey(lambda a,b: a+b)"
   ]
  },
  {
   "cell_type": "markdown",
   "metadata": {},
   "source": [
    "The first command loads the file 'big.txt' on HDFS. The second command is combined of a series of Map and Reduce steps, which actually count the number of occurrence for each word in the file. The first five results are:"
   ]
  },
  {
   "cell_type": "code",
   "execution_count": 5,
   "metadata": {},
   "outputs": [
    {
     "data": {
      "text/plain": [
       "[(u'', 69285), (u'gag', 1), (u'worn,\"', 1), (u'\"Fool,', 1), (u'Dartmouth,', 1)]"
      ]
     },
     "execution_count": 5,
     "metadata": {},
     "output_type": "execute_result"
    }
   ],
   "source": [
    "wcount.take(5)"
   ]
  },
  {
   "cell_type": "markdown",
   "metadata": {},
   "source": [
    "Now we can sort the results and take the most occurent words."
   ]
  },
  {
   "cell_type": "code",
   "execution_count": 6,
   "metadata": {},
   "outputs": [
    {
     "name": "stdout",
     "output_type": "stream",
     "text": [
      "[(u'the', 71744), (u'', 69285), (u'of', 39169), (u'and', 35968), (u'to', 27895), (u'a', 19811), (u'in', 19515), (u'that', 11216), (u'was', 11129), (u'his', 9561)]\n"
     ]
    }
   ],
   "source": [
    "wsort = wcount.sortBy(lambda x: x[1], ascending=False)\n",
    "results = wsort.take(10)\n",
    "print results"
   ]
  },
  {
   "cell_type": "markdown",
   "metadata": {},
   "source": [
    "### 5. Show the result in nice figure\n",
    "\n",
    "Using Matplotlib library, we can show the result in a nice figure, with X-axis contains the most occurent words, and the Y-axis contains the number of occurence of each word."
   ]
  },
  {
   "cell_type": "code",
   "execution_count": 7,
   "metadata": {},
   "outputs": [
    {
     "data": {
      "image/png": "[encoded data removed]",
      "text/plain": [
       "<matplotlib.figure.Figure at 0x7f071ca2a510>"
      ]
     },
     "metadata": {},
     "output_type": "display_data"
    }
   ],
   "source": [
    "%matplotlib inline\n",
    "from matplotlib import pyplot as plt\n",
    "x = [r[0] for r in results]\n",
    "y = [r[1] for r in results]\n",
    "xray = range(len(x))\n",
    "plt.xticks(xray,x)\n",
    "plt.plot(xray,y, 'b-o')\n",
    "plt.title('The most occurent words')\n",
    "plt.show()"
   ]
  },
  {
   "cell_type": "markdown",
   "metadata": {},
   "source": [
    "Finally close the Spark context in a clean way."
   ]
  },
  {
   "cell_type": "code",
   "execution_count": 8,
   "metadata": {
    "collapsed": true
   },
   "outputs": [],
   "source": [
    "sc.stop()"
   ]
  }
 ],
 "metadata": {
  "kernelspec": {
   "display_name": "Python 2",
   "language": "python",
   "name": "python2"
  },
  "language_info": {
   "codemirror_mode": {
    "name": "ipython",
    "version": 2
   },
   "file_extension": ".py",
   "mimetype": "text/x-python",
   "name": "python",
   "nbconvert_exporter": "python",
   "pygments_lexer": "ipython2",
   "version": "2.7.12"
  }
 },
 "nbformat": 4,
 "nbformat_minor": 1
}
